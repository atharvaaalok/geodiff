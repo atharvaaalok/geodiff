{
 "cells": [
  {
   "cell_type": "markdown",
   "id": "7ad5cde8",
   "metadata": {},
   "source": [
    "---\n",
    "title: NICE - Nonlinear Independent Components Estimation\n",
    "subtitle: Theory to Practice - A Tutorial on NICE representation.\n",
    "date: 2025-10-14\n",
    "bibliography:\n",
    "  - references.bib\n",
    "---"
   ]
  },
  {
   "cell_type": "markdown",
   "id": "c07be4c9",
   "metadata": {},
   "source": [
    "Nonlinear Independent Components Estimation (NICE) is a normalizing flow model proposed by\n",
    "[@dinh2014nice]. It is a specially designed neural network architecture that allows computation of\n",
    "exact log-likelihood, exact and efficient sampling and exact and efficient inference of latent\n",
    "variables. The neural architecture is invertible and therefore provides a way of representing only\n",
    "non-self-intersecting geometry. We do this by using a Pre-Aux net with the NICE architecture. In\n",
    "this tutorial, we walk through the theory behind the NICE representation and how to actually use\n",
    "their `geodiff` implementation in practice."
   ]
  },
  {
   "cell_type": "code",
   "execution_count": 1,
   "id": "9f54f09f",
   "metadata": {},
   "outputs": [],
   "source": [
    "# Basic Imports\n",
    "import matplotlib.pyplot as plt\n",
    "import torch\n",
    "\n",
    "from geodiff.nice import NICE\n",
    "from geodiff.loss_functions.chamfer import ChamferLoss\n",
    "from geodiff.template_architectures import ResMLP\n",
    "\n",
    "from assets.utils import square, normalize_0_to_1"
   ]
  },
  {
   "cell_type": "markdown",
   "id": "57740566",
   "metadata": {},
   "source": [
    "## Theoretical Background\n",
    "The NICE architecture as proposed in [@dinh2014nice] is based on the idea of stacking simple\n",
    "nonlinear invertible transformations. The architecture is built such that it is easy to compute the\n",
    "inverse and the determinant of the Jacobian of the transformation. Computing the inverse and the\n",
    "determinant of the Jacobian is useful for log-likelihood training of generative models (of say\n",
    "images) but we do not require these properties and are only interested in the architecture being\n",
    "guaranteed invertible. That is, as long as we are concerned we only need a guarantee on the\n",
    "transformation represented by the network being invertible we will never actually want to invert it\n",
    "or compute the Jacobian of the determinant. Therefore, we only focus on the `forward` pass of the\n",
    "network and do not discuss the computations of the inverse or the determinant of the Jacobian.\n",
    "\n",
    "The NICE architecture is composed of bijective transformations with triangular Jacobians that serve\n",
    "as a building block for the entire transformation `f`. In particular, it uses an additive coupling\n",
    "layer as the building block defined as follows:\n",
    "\n",
    "**Additive coupling layer:** Let $x \\in \\mathbb{R}^{D}$ and $I_1, I_2$ be a partition of\n",
    "$\\llbracket 1, D \\rrbracket$ with $d = |I_1|$ and $m$ be a function defined on $\\mathbb{R}^{D}$. We\n",
    "can define $y = (y_{I_1}, y_{I_2})$ where:\n",
    ":::{math}\n",
    ":label: additive_coupling_layer\n",
    "y_{I_1} = x_{I_1} \\\\\n",
    "y_{I_2} = x_{I_2} + m(x_{I_1})\n",
    ":::\n",
    "where, $m$ is called the *additive coupling law*. If we choose\n",
    "$I_1 = \\llbracket 1, \\, d \\rrbracket, \\ I_2 = \\llbracket d+1, \\, D \\rrbracket$ then the Jacobian is\n",
    "given by:\n",
    ":::{math}\n",
    ":label: NICE_Jacobian_single_layer\n",
    "\\frac{\\partial y}{\\partial x}\n",
    "=\n",
    "\\begin{bmatrix}\n",
    "I_d & 0\\\\\n",
    "\\displaystyle \\frac{\\partial y_{I_2}}{\\partial x_{I_1}}\n",
    "&\n",
    "I_{D - d}\n",
    "\\end{bmatrix}\n",
    ":::\n",
    "\n",
    "The inverse mapping is obtained by:\n",
    ":::{math}\n",
    ":label: NICE_inverse\n",
    "x_{I_1} = y_{I_1} \\\\\n",
    "x_{I_2} = y_{I_2} - m(y_{I_1})\n",
    ":::\n",
    "\n",
    "Each additive coupling layer has unit Jacobian determinant as is clear from Eq.\n",
    "[](#NICE_Jacobian_single_layer), i.e. is volume preserving. Therefore, their composition will\n",
    "necessarily have unit Jacobian determinant too. In order to address this issue, we include a\n",
    "diagonal scaling matrix $S$ as the top layer, which multiplies the $i$-th output value by\n",
    "$S_{ii}$ giving $(x_i)_{i \\leq D} \\rightarrow (S_{ii}x_i)_{i \\leq D}$."
   ]
  },
  {
   "cell_type": "markdown",
   "id": "0b04eb8c",
   "metadata": {},
   "source": [
    "## Implementation using `geodiff`\n",
    "We now look at how `geodiff` allows us to easily use the NICE parameterization to represent shapes.\n",
    "\n",
    "The NICE class initializer and its expected arguments are shown below:\n",
    ":::{literalinclude} ../src/geodiff/nice.py\n",
    ":start-at: __init__\n",
    ":end-at: -> None\n",
    ":::\n",
    "\n",
    "To construct a NICE object, we need to supply:\n",
    "- **Geometry Dimension** 2 for 2D and 3 for 3D.\n",
    "- **Layer Count** the number of layers in the NICE architecture.\n",
    "- **Coupling Net** a torch network module to be used as the additive coupling law.\n",
    "- **Pre-Aux Net** parameters such as layer count, hidden dimension, activation, normalization and\n",
    "    output functions.\n",
    "- **Volume Preserving**, to decide whether the NICE architecture is used without the scaling layer\n",
    "    at the top. This is best used with a Pre-Aux net with no parameters that preserves the area or\n",
    "    volume of the closed circle or sphere.\n",
    "- **Boolean Flags** for using batch normalization and residual connections with the NICE layers."
   ]
  },
  {
   "cell_type": "markdown",
   "id": "f177a3ed",
   "metadata": {},
   "source": [
    "### Fitting Shapes\n",
    "We will use a square as our target geometry. We then use the `ChamferLoss` to compute the geometric\n",
    "difference loss between the target shape and the shape represented by our NICE parameterization.\n",
    "Since the implementation is written in PyTorch we can use the autograd capabilities to compute the\n",
    "gradients of the loss w.r.t. the NICE network parameters and use an optimizer to modify our\n",
    "geometry.\n",
    "\n",
    "We start by obtaining points on our shapes and normalizing them appropriately such that\n",
    "$x \\in [0, 1]$. This is not needed for NICE but is used to offer a comparison with the classical\n",
    "shape representation methods like Hicks-Henne and CST."
   ]
  },
  {
   "cell_type": "code",
   "execution_count": 2,
   "id": "e36bd9c2",
   "metadata": {},
   "outputs": [],
   "source": [
    "# Get points on a square (curve to fit)\n",
    "num_pts = 1000\n",
    "X_square = square(num_pts)\n",
    "\n",
    "# Normalize x values to the range [0, 1] to compare with other representation methods\n",
    "X_square = normalize_0_to_1(X_square)"
   ]
  },
  {
   "cell_type": "markdown",
   "id": "b35fd653",
   "metadata": {},
   "source": [
    "We now create a `NICE` object by specifying the geometry dimension, layer count, coupling network\n",
    "and Pre-Aux net parameters."
   ]
  },
  {
   "cell_type": "code",
   "execution_count": 3,
   "id": "ec6d0a83",
   "metadata": {},
   "outputs": [],
   "source": [
    "# Create a NICE object\n",
    "# First create a coupling network to pass to the NICE initializer\n",
    "coupling_net = ResMLP(input_dim = 1, output_dim = 1, layer_count = 2, hidden_dim = 20)\n",
    "nice = NICE(\n",
    "    geometry_dim = 2,\n",
    "    layer_count = 4,\n",
    "    coupling_net = coupling_net,\n",
    "    preaux_net_layer_count = 2,\n",
    "    preaux_net_hidden_dim = 20,\n",
    ")"
   ]
  },
  {
   "cell_type": "markdown",
   "id": "1a375c01",
   "metadata": {},
   "source": [
    "We use the `ChamferLoss` provided by `geodiff` to compute a geometric loss between the target shape\n",
    "and the shape represented by the `NICE` object. PyTorch's autograd capabilities then allow us to\n",
    "compute gradients of the loss w.r.t. the NICE network parameters and modify them to fit the target\n",
    "shape."
   ]
  },
  {
   "cell_type": "code",
   "execution_count": 4,
   "id": "15b2f4e1",
   "metadata": {},
   "outputs": [
    {
     "name": "stdout",
     "output_type": "stream",
     "text": [
      "Epoch: [   1/1000]. Loss:    0.194294\n",
      "Epoch: [ 200/1000]. Loss:    0.000481\n",
      "Epoch: [ 400/1000]. Loss:    0.000111\n",
      "Epoch: [ 600/1000]. Loss:    0.000073\n",
      "Epoch: [ 800/1000]. Loss:    0.000063\n",
      "Epoch: [1000/1000]. Loss:    0.000058\n"
     ]
    }
   ],
   "source": [
    "# Train the NICE parameters to fit the square\n",
    "loss_fn = ChamferLoss()\n",
    "\n",
    "learning_rate = 0.001\n",
    "epochs = 1000\n",
    "print_cost_every = 200\n",
    "\n",
    "Y_train = X_square\n",
    "\n",
    "optimizer = torch.optim.Adam(nice.parameters(), lr = learning_rate)\n",
    "scheduler = torch.optim.lr_scheduler.ReduceLROnPlateau(optimizer, factor = 0.99)\n",
    "\n",
    "for epoch in range(epochs):\n",
    "    Y_model = nice(num_pts = num_pts)\n",
    "    \n",
    "    loss = loss_fn(Y_model, Y_train)\n",
    "\n",
    "    loss.backward()\n",
    "    optimizer.step()\n",
    "    optimizer.zero_grad()\n",
    "    scheduler.step(loss.item())\n",
    "\n",
    "    if epoch == 0 or (epoch + 1) % print_cost_every == 0:\n",
    "        num_digits = len(str(epochs))\n",
    "        print(f'Epoch: [{epoch + 1:{num_digits}}/{epochs}]. Loss: {loss.item():11.6f}')"
   ]
  },
  {
   "cell_type": "markdown",
   "id": "dd9683ca",
   "metadata": {},
   "source": [
    "We can now visualize the shape represented by our `NICE` object using its `visualize` method."
   ]
  },
  {
   "cell_type": "code",
   "execution_count": 5,
   "id": "c4c2fe13",
   "metadata": {},
   "outputs": [
    {
     "data": {
      "image/png": "[encoded data removed]",
      "text/plain": [
       "<Figure size 640x480 with 1 Axes>"
      ]
     },
     "metadata": {},
     "output_type": "display_data"
    }
   ],
   "source": [
    "# Visualize the fitted NICE shape\n",
    "fig, ax = nice.visualize(num_pts = num_pts)\n",
    "plt.tight_layout()\n",
    "plt.show()"
   ]
  }
 ],
 "metadata": {
  "kernelspec": {
   "display_name": "geodiff",
   "language": "python",
   "name": "python3"
  },
  "language_info": {
   "codemirror_mode": {
    "name": "ipython",
    "version": 3
   },
   "file_extension": ".py",
   "mimetype": "text/x-python",
   "name": "python",
   "nbconvert_exporter": "python",
   "pygments_lexer": "ipython3",
   "version": "3.12.0"
  }
 },
 "nbformat": 4,
 "nbformat_minor": 5
}
