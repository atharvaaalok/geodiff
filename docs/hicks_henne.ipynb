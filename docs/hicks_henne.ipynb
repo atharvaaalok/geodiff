{
 "cells": [
  {
   "cell_type": "markdown",
   "id": "64acc67e",
   "metadata": {},
   "source": [
    "---\n",
    "title: Hicks-Henne Bump Functions\n",
    "subtitle: Theory to Practice - A Tutorial on Hicks-Henne Bump Functions.\n",
    "date: 2025-09-27\n",
    "bibliography:\n",
    "  - references.bib\n",
    "---"
   ]
  },
  {
   "cell_type": "markdown",
   "id": "9dbaba1a",
   "metadata": {},
   "source": [
    "Hicks-Henne bump function representation is a classical approach for parameterizing airfoil and wing\n",
    "shapes. It uses two families of bump functions[^bump_function], which are added linearly onto a\n",
    "baseline geometry to produce a modified shape. In this tutorial, we walk through the theory behind\n",
    "Hicks-Henne bump functions and how to actually use their `geodiff` implementation in practice.\n",
    "\n",
    "[^bump_function]:\n",
    "    > In mathematical analysis, a bump function (also called a test function) is a function\n",
    "    > $f: \\mathbb{R}^{n} \\rightarrow \\mathbb{R}$ on a Euclidean space $\\mathbb{R}^{n}$ which is both\n",
    "    > smooth (in the sense of having continuous derivates of all orders) and compactly supported.\n",
    "    > \n",
    "    > -- [Wikipedia, Bump function](https://en.wikipedia.org/wiki/Bump_function)\n",
    "\n",
    "    In simpler terms, a bump function has derivatives of all orders and is only non-zero on a finite\n",
    "    region, meaning it is \"localized\" and only modifies the shape within a specific interval.\n",
    "\n",
    "\n",
    ":::{note} History behind the Hicks-Henne bump functions\n",
    ":class: dropdown\n",
    "The Hicks-Henne bump function parameterization was popularized by the paper titled \"Wing design by\n",
    "numerical optimization\" [@hicks1978wing]. Almost all references to the Hicks-Henne parameterization\n",
    "point to this paper. But, this paper does not list the functional form of the Hicks-Henne basis\n",
    "functions. These were introduced in a prior paper \"Application of Numerical Optimization to the\n",
    "Design of Supercritical Airfoils without Drag-Creep.\" [@hicks1977application]. So the actual basis\n",
    "functions were used by Hicks and Vanderplaats but the name Hicks-Henne has stuck since their paper\n",
    "popularized it.\n",
    ":::"
   ]
  },
  {
   "cell_type": "code",
   "execution_count": 1,
   "id": "1c26980c",
   "metadata": {},
   "outputs": [],
   "source": [
    "# Basic Imports\n",
    "import matplotlib.pyplot as plt\n",
    "import torch\n",
    "\n",
    "from geodiff.hicks_henne import HicksHenne\n",
    "from geodiff.loss_functions.chamfer import ChamferLoss\n",
    "\n",
    "from assets.utils import circle, square, normalize_0_to_1"
   ]
  },
  {
   "cell_type": "markdown",
   "id": "447a66da",
   "metadata": {},
   "source": [
    "## Theoretical Background\n",
    "Hicks-Henne representation works by modifying a baseline geometry. The shape is represented by the\n",
    "following equations [@hicks1978wing]:\n",
    ":::{math}\n",
    ":label: baseline_modify\n",
    "y_{upper} = y_{upper}^{baseline} + \\sum_i a_i f_i \\\\[2ex]\n",
    "y_{lower} = y_{lower}^{baseline} + \\sum_i b_i g_i\n",
    ":::\n",
    "where, $y_{upper}^{baseline}$ and $y_{lower}^{baseline}$ are the ordinates of the upper and lower\n",
    "surfaces of the baseline geometry, and $f_i$ and $g_i$ are basis functions that are added linearly\n",
    "to modify the shape. The contribution of each function is determined by the value of the\n",
    "*participation coefficients* (design variables), $a_i$s and $b_i$s, associated with that function.\n",
    "All participation coefficients are initially set to zero to represent the baseline geometry.\n",
    "\n",
    "Two classes of basis functions are used: 1) polynomial-exponential and 2) sinusoidal. The functional\n",
    "forms of these are defined in Eq. [](#polyexp_basis) and Eq. [](#sin_basis) respectively\n",
    "[@hicks1977application].\n",
    ":::{math}\n",
    ":label: polyexp_basis\n",
    "y = \\frac{\\left(x \\right)^{n} \\left(1 - x \\right)}{e^{mx}}\n",
    ":::\n",
    "\n",
    ":::{math}\n",
    ":label: sin_basis\n",
    "y = \\sin \\left( \\pi x^{n} \\right)^{m}\n",
    ":::\n",
    "where, $x \\in [0, 1]$.\n",
    "\n",
    "Graphs of these functions for various values of $n$ and $m$ are shown in [](#polyexp_graph) and\n",
    "[](#sin_graph)[^hicks_henne_graphs]. Note that the region of influence of the functions is\n",
    "controlled by the exponents $n$ and $m$. The chordwise location of the peak of the sine curves in\n",
    "Eq. [](#sin_basis) is proportional to the exponent $n$, whereas the width of each curve is\n",
    "determined by $m$ [](#polyexp_graph). The location and magnitude of the peak of the polynomial-\n",
    "exponential functions in Eq. [](#polyexp_basis) are determined by both $n$ and $m$ [](#sin_graph).\n",
    "\n",
    ":::{figure} assets/hicks_henne_polyexp_graphs.png\n",
    ":alt: Graph showing polynomial-exponential basis functions for different $m$ and $n$ values.\n",
    ":label: polyexp_graph\n",
    ":width: 80%\n",
    "Polynomial-exponential basis functions.\n",
    ":::\n",
    "\n",
    ":::{figure} assets/hicks_henne_sin_graphs.png\n",
    ":alt: Graph showing sinusoidal basis functions for different $m$ and $n$ values.\n",
    ":label: sin_graph\n",
    ":width: 75%\n",
    "Sinusoidal basis functions.\n",
    ":::\n",
    "\n",
    "[^hicks_henne_graphs]: Figures adapted from [@hicks1977application]."
   ]
  },
  {
   "cell_type": "markdown",
   "id": "66fb6e26",
   "metadata": {},
   "source": [
    "## Implementation using `geodiff`\n",
    "We now look at how `geodiff` allows us to easily use the Hicks-Henne parameterization to represent\n",
    "shapes.\n",
    "\n",
    "The Hicks-Henne class initializer and its expected arguments are shown below:\n",
    ":::{literalinclude} ../src/geodiff/hicks_henne.py\n",
    ":start-at: __init__\n",
    ":end-at: -> None\n",
    ":::\n",
    "\n",
    "To construct a Hicks-Henne object, we must supply:\n",
    "- **Baseline coordinate** for the upper and lower surfaces.\n",
    "- **Parameters for the polynomial-exponential basis**.\n",
    "- **Parameters for the sinusoidal basis**.\n",
    "\n",
    "The implementation supports only a single exponent `m` for each of the basis class while allowing\n",
    "multiple `n` values to use different basis functions from a family.\n",
    "- **Polynomial-exponential family:** requires an explicit set of `n` values.\n",
    "- **Sinusoidal family:** can be specified in one of two ways:\n",
    "  - By providing an explicit list of `n` values, or\n",
    "  - By giving only the `count` of `n` values, in which case the code automatically constructs a list\n",
    "    corresponding to `count` equally spaced sinusoidal peaks over the interval $[0,1]$."
   ]
  },
  {
   "cell_type": "markdown",
   "id": "db65e56b",
   "metadata": {},
   "source": [
    "### Fitting Shapes\n",
    "We will use a circle as our baseline geometry and a square as our target. We then use the\n",
    "`ChamferLoss` to compute the geometric difference loss between the target shape and the shape\n",
    "represented by our Hicks-Henne parameterization. Since the implementation is written in PyTorch we\n",
    "can use the autograd capabilities to compute the gradients of the loss w.r.t. the Hicks-Henne\n",
    "participation coefficients and use an optimizer to modify our geometry.\n",
    "\n",
    "We start by obtaining points on our shapes and normalizing them appropriately such that\n",
    "$x \\in [0, 1]$ as assumed by the implementation."
   ]
  },
  {
   "cell_type": "code",
   "execution_count": 2,
   "id": "2f71c992",
   "metadata": {},
   "outputs": [],
   "source": [
    "# Get points on a circle (baseline curve) and square (curve to fit)\n",
    "num_pts = 1000\n",
    "X_circle = circle(num_pts)\n",
    "X_square = square(num_pts)\n",
    "\n",
    "# For Hicks-Henne x values should lie in the range [0, 1]\n",
    "X_circle = normalize_0_to_1(X_circle)\n",
    "X_square = normalize_0_to_1(X_square)\n",
    "\n",
    "# Extract upper and lower coordinates for Hicks-Henne\n",
    "idx_upper = X_circle[:, 1] >= 0\n",
    "idx_lower = X_circle[:, 1] < 0\n",
    "X_upper_baseline = X_circle[idx_upper]\n",
    "X_lower_baseline = X_circle[idx_lower]"
   ]
  },
  {
   "cell_type": "markdown",
   "id": "6d831458",
   "metadata": {},
   "source": [
    "We now create a `HicksHenne` object by specifying the baseline coordinates and the parameters for\n",
    "the basis functions."
   ]
  },
  {
   "cell_type": "code",
   "execution_count": 3,
   "id": "fca17074",
   "metadata": {},
   "outputs": [],
   "source": [
    "# Create a HicksHenne object\n",
    "hicks_henne = HicksHenne(\n",
    "    X_upper_baseline = X_upper_baseline,\n",
    "    X_lower_baseline = X_lower_baseline,\n",
    "    polyexp_m = 5,\n",
    "    polyexp_n_list = [0.2, 0.4, 0.6, 0.8],\n",
    "    sin_m = 5,\n",
    "    sin_n_list = None,\n",
    "    sin_n_count = 12\n",
    ")"
   ]
  },
  {
   "cell_type": "markdown",
   "id": "b347daff",
   "metadata": {},
   "source": [
    "We use the `ChamferLoss` provided by `geodiff` to compute a geometric loss between the target shape\n",
    "and the shape represented by the `HicksHenne` object. PyTorch's autograd capabilities then allow us\n",
    "to compute gradients of the loss w.r.t. the Hicks-Henne participation coefficients and modify them\n",
    "to fit the target shape."
   ]
  },
  {
   "cell_type": "code",
   "execution_count": 4,
   "id": "94a33141",
   "metadata": {},
   "outputs": [
    {
     "name": "stdout",
     "output_type": "stream",
     "text": [
      "Epoch: [   1/1000]. Loss:    0.011618\n",
      "Epoch: [ 200/1000]. Loss:    0.000807\n",
      "Epoch: [ 400/1000]. Loss:    0.000367\n",
      "Epoch: [ 600/1000]. Loss:    0.000308\n",
      "Epoch: [ 800/1000]. Loss:    0.000293\n",
      "Epoch: [1000/1000]. Loss:    0.000289\n"
     ]
    }
   ],
   "source": [
    "# Train the Hicks-Henne parameters to fit the square\n",
    "loss_fn = ChamferLoss()\n",
    "\n",
    "learning_rate = 0.001\n",
    "epochs = 1000\n",
    "print_cost_every = 200\n",
    "\n",
    "Y_train = X_square\n",
    "\n",
    "optimizer = torch.optim.Adam(hicks_henne.parameters(), lr = learning_rate)\n",
    "scheduler = torch.optim.lr_scheduler.ReduceLROnPlateau(optimizer, factor = 0.99)\n",
    "\n",
    "for epoch in range(epochs):\n",
    "    Y_model = hicks_henne()\n",
    "    Y_model = torch.vstack([Y_model[0], Y_model[1]])\n",
    "    \n",
    "    loss = loss_fn(Y_model, Y_train)\n",
    "\n",
    "    loss.backward()\n",
    "    optimizer.step()\n",
    "    optimizer.zero_grad()\n",
    "    scheduler.step(loss.item())\n",
    "\n",
    "    if epoch == 0 or (epoch + 1) % print_cost_every == 0:\n",
    "        num_digits = len(str(epochs))\n",
    "        print(f'Epoch: [{epoch + 1:{num_digits}}/{epochs}]. Loss: {loss.item():11.6f}')"
   ]
  },
  {
   "cell_type": "markdown",
   "id": "12508b13",
   "metadata": {},
   "source": [
    "We can now visualize the shape represented by our `HicksHenne` object using its `visualize` method."
   ]
  },
  {
   "cell_type": "code",
   "execution_count": 5,
   "id": "21820a21",
   "metadata": {},
   "outputs": [
    {
     "data": {
      "image/png": "[encoded data removed]",
      "text/plain": [
       "<Figure size 640x480 with 1 Axes>"
      ]
     },
     "metadata": {},
     "output_type": "display_data"
    }
   ],
   "source": [
    "# Visualize the fitted Hicks-Henne shape\n",
    "fig, ax = hicks_henne.visualize()\n",
    "plt.tight_layout()\n",
    "plt.show()"
   ]
  },
  {
   "cell_type": "markdown",
   "id": "812c2842",
   "metadata": {},
   "source": [
    "The polynomial-exponential functions are active close to $x = 0$ and therefore we get a better fit\n",
    "there compared to near $x = 1$ where only the sinusoidal family is active."
   ]
  }
 ],
 "metadata": {
  "kernelspec": {
   "display_name": "geodiff",
   "language": "python",
   "name": "python3"
  },
  "language_info": {
   "codemirror_mode": {
    "name": "ipython",
    "version": 3
   },
   "file_extension": ".py",
   "mimetype": "text/x-python",
   "name": "python",
   "nbconvert_exporter": "python",
   "pygments_lexer": "ipython3",
   "version": "3.12.0"
  }
 },
 "nbformat": 4,
 "nbformat_minor": 5
}
