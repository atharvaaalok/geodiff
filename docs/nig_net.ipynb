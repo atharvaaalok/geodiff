{
 "cells": [
  {
   "cell_type": "markdown",
   "id": "eafaa50c",
   "metadata": {},
   "source": [
    "---\n",
    "title: NIGnet - Neural Injective Geometry network\n",
    "subtitle: Theory to Practice - A Tutorial on NIGnet representation.\n",
    "date: 2025-10-15\n",
    "bibliography:\n",
    "  - references.bib\n",
    "---"
   ]
  },
  {
   "cell_type": "markdown",
   "id": "b7455974",
   "metadata": {},
   "source": [
    "Neural Injective Geometry network (NIGnet) is a neural architecture proposed by\n",
    "[@atharvaaalok_nignets]. It is a specially designed neural network architecture that is invertible\n",
    "and therefore provides a way of representing only non-self-intersecting geometry. We do this by\n",
    "using a Pre-Aux net with the NIGnet architecture. In this tutorial, we walk through the theory\n",
    "behind the NIGNet representation and how to actually use their `geodiff` implementation in practice."
   ]
  },
  {
   "cell_type": "code",
   "execution_count": 1,
   "id": "1577567b",
   "metadata": {},
   "outputs": [],
   "source": [
    "# Basic Imports\n",
    "import matplotlib.pyplot as plt\n",
    "import torch\n",
    "\n",
    "from geodiff.nig_net import NIGnet\n",
    "from geodiff.monotonic_nets import SmoothMinMaxNet\n",
    "from geodiff.loss_functions.chamfer import ChamferLoss\n",
    "\n",
    "from assets.utils import square, normalize_0_to_1"
   ]
  },
  {
   "cell_type": "markdown",
   "id": "978747fa",
   "metadata": {},
   "source": [
    "## Theoretical Background\n",
    "The NIGnet architecture as proposed in [@atharvaaalok_nignets] is based on the idea of stacking\n",
    "simple nonlinear invertible transformations. Computing the inverse and the determinant of the\n",
    "Jacobian is useful for log-likelihood training of generative models (of say images) but we do not\n",
    "require these properties and are only interested in the architecture being guaranteed invertible.\n",
    "That is, as long as we are concerned we only need a guarantee on the transformation represented by\n",
    "the network being invertible we will never actually want to invert it or compute the Jacobian of the\n",
    "determinant. Therefore, we only focus on the `forward` pass of the network and do not discuss the\n",
    "computations of the inverse or the determinant of the Jacobian.\n",
    "\n",
    "The NIGnet architecture is composed of bijective transformations that serve as a building block for\n",
    "the entire transformation `f`. In particular, it uses linear layers followed by monotonic networks\n",
    "as the building block defined as follows:\n",
    "\n",
    "**Linear layer:** To guarantee that the linear layers are invertible we use the matrix exponential.\n",
    ":::{math}\n",
    ":label: exp_linear_layer\n",
    "\\begin{align*}\n",
    "&W \\in \\mathbb{R}^{2 \\times 2} \\\\\n",
    "&A = e^{W} \\\\\n",
    "&y = Ax\n",
    "\\end{align*}\n",
    ":::\n",
    "Since the matrix exponential returns an invertible matrix for any weight matrix $W$, we can run\n",
    "unconstrained optimization on $W$ while guaranteeing non-self-intersection.\n",
    "\n",
    "**Monotonic layer:** Let $x \\in \\mathbb{R}^{D}$ with its elements denoted by $x_i$ and $m$ be a\n",
    "monotonic function defined on $\\mathbb{R}$. The monotonic function is parameterized by a monotonic\n",
    "network and replaces the activation functions usually used in neural networks. Let $y$ denote the\n",
    "output of the monotonic layer with its elements denoted by $y_i$. Then we have:\n",
    ":::{math}\n",
    ":label: monotonic_layer\n",
    "y_i = m(x_i) \\qquad i = {1, \\ldots, D}\n",
    ":::"
   ]
  },
  {
   "cell_type": "markdown",
   "id": "a359a93d",
   "metadata": {},
   "source": [
    "## Implementation using `geodiff`\n",
    "We now look at how `geodiff` allows us to easily use the NIGnet parameterization to represent\n",
    "shapes.\n",
    "\n",
    "The NIGnet class initializer and its expected arguments are shown below:\n",
    ":::{literalinclude} ../src/geodiff/nig_net.py\n",
    ":start-at: __init__\n",
    ":end-at: -> None\n",
    ":::\n",
    "\n",
    "To construct a NIGnet object, we need to supply:\n",
    "- **Geometry Dimension** 2 for 2D and 3 for 3D.\n",
    "- **Layer Count** the number of layers in the NIGnet architecture.\n",
    "- **Monotonic Net** a torch network module to be used as the monotonic network.\n",
    "- **Pre-Aux Net** parameters such as layer count, hidden dimension, activation, normalization and\n",
    "    output functions.\n",
    "- **Boolean Flags** for using batch normalization and residual connections with the NIGnet layers.\n",
    "- **Intersection Mode** to decide whether to use a Linear layer (possible intersection) or an\n",
    "    ExpLinear layer (impossible intersection)."
   ]
  },
  {
   "cell_type": "markdown",
   "id": "bd8ae165",
   "metadata": {},
   "source": [
    "### Fitting Shapes\n",
    "We will use a square as our target geometry. We then use the `ChamferLoss` to compute the geometric\n",
    "difference loss between the target shape and the shape represented by our NIGnet parameterization.\n",
    "Since the implementation is written in PyTorch we can use the autograd capabilities to compute the\n",
    "gradients of the loss w.r.t. the NIGnet network parameters and use an optimizer to modify our\n",
    "geometry.\n",
    "\n",
    "We start by obtaining points on our shapes and normalizing them appropriately such that\n",
    "$x \\in [0, 1]$. This is not needed for NIGnet but is used to offer a comparison with the classical\n",
    "shape representation methods like Hicks-Henne and CST."
   ]
  },
  {
   "cell_type": "code",
   "execution_count": 2,
   "id": "ebb06408",
   "metadata": {},
   "outputs": [],
   "source": [
    "# Get points on a square (curve to fit)\n",
    "num_pts = 1000\n",
    "X_square = square(num_pts)\n",
    "\n",
    "# Normalize x values to the range [0, 1] to compare with other representation methods\n",
    "X_square = normalize_0_to_1(X_square)"
   ]
  },
  {
   "cell_type": "markdown",
   "id": "9ac27dd3",
   "metadata": {},
   "source": [
    "We now create a `NIGnet` object by specifying the geometry dimension, layer count, monotonic network\n",
    "and Pre-Aux net parameters."
   ]
  },
  {
   "cell_type": "code",
   "execution_count": 3,
   "id": "0f6e87ee",
   "metadata": {},
   "outputs": [],
   "source": [
    "# Create a NIGnet object\n",
    "# First create a monotonic network to pass to the NIGnet initializer\n",
    "monotonic_net = SmoothMinMaxNet(input_dim = 1, n_groups = 6, nodes_per_group = 6)\n",
    "nig_net = NIGnet(\n",
    "    geometry_dim = 2,\n",
    "    layer_count = 4,\n",
    "    monotonic_net = monotonic_net,\n",
    "    preaux_net_layer_count = 2,\n",
    "    preaux_net_hidden_dim = 20,\n",
    ")"
   ]
  },
  {
   "cell_type": "markdown",
   "id": "9def40f6",
   "metadata": {},
   "source": [
    "We use the `ChamferLoss` provided by `geodiff` to compute a geometric loss between the target shape\n",
    "and the shape represented by the `NIGnet` object. PyTorch's autograd capabilities then allow us to\n",
    "compute gradients of the loss w.r.t. the NIGnet network parameters and modify them to fit the target\n",
    "shape."
   ]
  },
  {
   "cell_type": "code",
   "execution_count": 4,
   "id": "a03c8eac",
   "metadata": {},
   "outputs": [
    {
     "name": "stdout",
     "output_type": "stream",
     "text": [
      "Epoch: [   1/1000]. Loss:    0.559324\n",
      "Epoch: [ 200/1000]. Loss:    0.001861\n",
      "Epoch: [ 400/1000]. Loss:    0.000790\n",
      "Epoch: [ 600/1000]. Loss:    0.000291\n",
      "Epoch: [ 800/1000]. Loss:    0.000067\n",
      "Epoch: [1000/1000]. Loss:    0.000042\n"
     ]
    }
   ],
   "source": [
    "# Train the NIGnet parameters to fit the square\n",
    "loss_fn = ChamferLoss()\n",
    "\n",
    "learning_rate = 0.01\n",
    "epochs = 1000\n",
    "print_cost_every = 200\n",
    "\n",
    "Y_train = X_square\n",
    "\n",
    "optimizer = torch.optim.Adam(nig_net.parameters(), lr = learning_rate)\n",
    "scheduler = torch.optim.lr_scheduler.ReduceLROnPlateau(optimizer, factor = 0.99)\n",
    "\n",
    "for epoch in range(epochs):\n",
    "    Y_model = nig_net(num_pts = num_pts)\n",
    "    \n",
    "    loss = loss_fn(Y_model, Y_train)\n",
    "\n",
    "    loss.backward()\n",
    "    optimizer.step()\n",
    "    optimizer.zero_grad()\n",
    "    scheduler.step(loss.item())\n",
    "\n",
    "    if epoch == 0 or (epoch + 1) % print_cost_every == 0:\n",
    "        num_digits = len(str(epochs))\n",
    "        print(f'Epoch: [{epoch + 1:{num_digits}}/{epochs}]. Loss: {loss.item():11.6f}')"
   ]
  },
  {
   "cell_type": "markdown",
   "id": "d1b52efb",
   "metadata": {},
   "source": [
    "We can now visualize the shape represented by our `NIGnet` object using its `visualize` method."
   ]
  },
  {
   "cell_type": "code",
   "execution_count": 5,
   "id": "2f0115b6",
   "metadata": {},
   "outputs": [
    {
     "data": {
      "image/png": "[encoded data removed]",
      "text/plain": [
       "<Figure size 640x480 with 1 Axes>"
      ]
     },
     "metadata": {},
     "output_type": "display_data"
    }
   ],
   "source": [
    "# Visualize the fitted NIGnet shape\n",
    "fig, ax = nig_net.visualize(num_pts = num_pts)\n",
    "plt.tight_layout()\n",
    "plt.show()"
   ]
  }
 ],
 "metadata": {
  "kernelspec": {
   "display_name": "geodiff",
   "language": "python",
   "name": "python3"
  },
  "language_info": {
   "codemirror_mode": {
    "name": "ipython",
    "version": 3
   },
   "file_extension": ".py",
   "mimetype": "text/x-python",
   "name": "python",
   "nbconvert_exporter": "python",
   "pygments_lexer": "ipython3",
   "version": "3.12.0"
  }
 },
 "nbformat": 4,
 "nbformat_minor": 5
}
