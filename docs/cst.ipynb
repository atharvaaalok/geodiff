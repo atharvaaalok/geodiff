{
 "cells": [
  {
   "cell_type": "markdown",
   "id": "36a69167",
   "metadata": {},
   "source": [
    "---\n",
    "title: CST - Class Shape Transformation\n",
    "subtitle: Theory to Practice - A Tutorial on CST representation.\n",
    "date: 2025-10-4\n",
    "bibliography:\n",
    "  - references.bib\n",
    "---"
   ]
  },
  {
   "cell_type": "markdown",
   "id": "2fe4b9af",
   "metadata": {},
   "source": [
    "Class Shape Transformation (CST) is a classical approach popularly used for parameterizing airfoil\n",
    "and wing shapes though it is quite general and can also be used to represent other aircraft\n",
    "components. It uses *class* functions and *shape* functions to parameterize shapes. The *class*\n",
    "function decides the family of shapes and the *shape* function provides expressivity to fit\n",
    "different shapes within that class and also the ability to directly control key geometry parameters\n",
    "such as leading edge radius, trailing edge boattail angle, and closure to a specified aft thickness.\n",
    "In this tutorial, we walk through the theory behind the CST representation and how to actually use\n",
    "their `geodiff` implementation in practice."
   ]
  },
  {
   "cell_type": "code",
   "execution_count": 1,
   "id": "e4670da6",
   "metadata": {},
   "outputs": [],
   "source": [
    "# Basic Imports\n",
    "import matplotlib.pyplot as plt\n",
    "import torch\n",
    "\n",
    "from geodiff.cst import CST\n",
    "from geodiff.loss_functions.chamfer import ChamferLoss\n",
    "\n",
    "from assets.utils import square, normalize_0_to_1"
   ]
  },
  {
   "cell_type": "markdown",
   "id": "14d49205",
   "metadata": {},
   "source": [
    "## Theoretical Background\n",
    "The CST representation works by combining class functions and shape functions. The shape is\n",
    "represented by the following equations [@kulfan2006fundamental]:\n",
    ":::{math}\n",
    ":label: cst_equations\n",
    "y_u(x) &= C(x) \\, S_u(x) + \\Delta y_{u} \\\\\n",
    "y_l(x) &= C(x) \\, S_l(x) - \\Delta y_{l}\n",
    ":::\n",
    "where, $x \\in [0, 1]$. $y_{u}$ and $y_{l}$ are the ordinates of the upper and lower surfaces of the\n",
    "geometry. $C(x)$ is the class function:\n",
    ":::{math}\n",
    ":label: class_function\n",
    "C(x) = x^{n_1} \\left(1 - x \\right)^{n_2}\n",
    ":::\n",
    "specified by exponents $n_1$ and $n_2$. $S_u(x)$ and $S_l(x)$ are the shape functions for the upper\n",
    "and lower surfaces described by:\n",
    ":::{math}\n",
    ":label: shape_functions\n",
    "S_u(x) = \\sum_{k=0}^{K_u-1} A_{u,k} \\, S_k(x), \\qquad\n",
    "S_l(x) = \\sum_{k=0}^{K_l-1} A_{l,k} \\, S_k(x)\n",
    ":::\n",
    "where the element shape functions $S_k(x)$ are the Bernstein basis polynomials\n",
    "[^Bernstein_polynomial] of degree $n = K - 1$:\n",
    "$$S_k(x) = \\binom{K}{k} x^{k} (1 - x)^{K - k}, \\qquad \\text{for} \\; k = 0, \\ldots, K$$\n",
    "\n",
    "$\\Delta y_{u}$ and $\\Delta y_{l}$ are trailing-edge offsets that govern the trailing-edge thickness,\n",
    "specifically:\n",
    ":::{math}\n",
    ":label: te_thickness\n",
    "t_{TE} = \\Delta y_{u} + \\Delta y_{l}\n",
    ":::\n",
    "Note that, we define both quantities to be positive always, this allows us to compute the thickness\n",
    "at the trailing edge simply as $y_{u} - y_{l}$ since the class function at $x = 1$ vanishes.\n",
    "\n",
    "[^Bernstein_polynomial]:\n",
    "    > Bernstein basis polynomials are basis functions that form a partition of unity. The $n + 1$\n",
    "    > Bernstein basis polynomials of degree $n$ are defined as:\n",
    "    > $$b_{k, n}(x) = \\binom{n}{k} x^{k} (1 - x)^{n - k}, \\qquad \\text{for} \\; k = 0, \\ldots, n$$\n",
    "    > where $\\binom{n}{k}$ is a binomial coefficient.\n",
    "    > \n",
    "    > -- [Wikipedia, Bernstein Polynomial](https://en.wikipedia.org/wiki/Bernstein_polynomial)"
   ]
  },
  {
   "cell_type": "markdown",
   "id": "c2a44cef",
   "metadata": {},
   "source": [
    "## Implementation using `geodiff`\n",
    "We now look at how `geodiff` allows us to easily use the CST parameterization to represent shapes.\n",
    "\n",
    "The CST class initializer and its expected arguments are shown below:\n",
    ":::{literalinclude} ../src/geodiff/cst.py\n",
    ":start-at: __init__\n",
    ":end-at: -> None\n",
    ":::\n",
    "\n",
    "To construct a CST object, we may supply:\n",
    "- **Class function exponents** `n_1` and `n_2`.\n",
    "- **Shape function basis count** for the upper and lower surfaces. The degree of the Bernstein\n",
    "  polynomial used will be one less than the basis count.\n",
    "- **Trailing edge thicknesses** for the upper and lower surfaces."
   ]
  },
  {
   "cell_type": "markdown",
   "id": "8e74eb6f",
   "metadata": {},
   "source": [
    "### Fitting Shapes\n",
    "We will use a square as our target geometry. We then use the `ChamferLoss` to compute the geometric\n",
    "difference loss between the target shape and the shape represented by our CST parameterization.\n",
    "Since the implementation is written in PyTorch we can use the autograd capabilities to compute the\n",
    "gradients of the loss w.r.t. the CST shape function coefficients and use an optimizer to modify our\n",
    "geometry.\n",
    "\n",
    "We start by obtaining points on our shapes and normalizing them appropriately such that\n",
    "$x \\in [0, 1]$ as assumed by the implementation."
   ]
  },
  {
   "cell_type": "code",
   "execution_count": 2,
   "id": "8e25ca62",
   "metadata": {},
   "outputs": [],
   "source": [
    "# Get points on a square (curve to fit)\n",
    "num_pts = 1000\n",
    "X_square = square(num_pts)\n",
    "\n",
    "# For CST x values should lie in the range [0, 1]\n",
    "X_square = normalize_0_to_1(X_square)"
   ]
  },
  {
   "cell_type": "markdown",
   "id": "b99fcffb",
   "metadata": {},
   "source": [
    "We now create a `CST` object by specifying the class function exponents, the basis function counts\n",
    "and the trailing edge thicknesses."
   ]
  },
  {
   "cell_type": "code",
   "execution_count": 3,
   "id": "454d4d9a",
   "metadata": {},
   "outputs": [],
   "source": [
    "# Create a CST object\n",
    "cst = CST(\n",
    "    n1 = 0.5,\n",
    "    n2 = 0.5,\n",
    "    upper_basis_count = 12,\n",
    "    lower_basis_count = 12,\n",
    "    upper_te_thickness = 0,\n",
    "    lower_te_thickness = 0\n",
    ")"
   ]
  },
  {
   "cell_type": "markdown",
   "id": "88a7c921",
   "metadata": {},
   "source": [
    "We use the `ChamferLoss` provided by `geodiff` to compute a geometric loss between the target shape\n",
    "and the shape represented by the `CST` object. PyTorch's autograd capabilities then allow us to\n",
    "compute gradients of the loss w.r.t. the CST shape function coefficients and modify them to fit the\n",
    "target shape."
   ]
  },
  {
   "cell_type": "code",
   "execution_count": 4,
   "id": "5f52eaff",
   "metadata": {},
   "outputs": [
    {
     "name": "stdout",
     "output_type": "stream",
     "text": [
      "Epoch: [   1/1000]. Loss:    0.012038\n",
      "Epoch: [ 200/1000]. Loss:    0.006183\n",
      "Epoch: [ 400/1000]. Loss:    0.003808\n",
      "Epoch: [ 600/1000]. Loss:    0.002843\n",
      "Epoch: [ 800/1000]. Loss:    0.002256\n",
      "Epoch: [1000/1000]. Loss:    0.001787\n"
     ]
    }
   ],
   "source": [
    "# Train the CST parameters to fit the square\n",
    "loss_fn = ChamferLoss()\n",
    "\n",
    "learning_rate = 0.001\n",
    "epochs = 1000\n",
    "print_cost_every = 200\n",
    "\n",
    "Y_train = X_square\n",
    "\n",
    "optimizer = torch.optim.Adam(cst.parameters(), lr = learning_rate)\n",
    "scheduler = torch.optim.lr_scheduler.ReduceLROnPlateau(optimizer, factor = 0.99)\n",
    "\n",
    "for epoch in range(epochs):\n",
    "    Y_model = cst(num_pts = num_pts)\n",
    "    Y_model = torch.vstack([Y_model[0], Y_model[1]])\n",
    "    \n",
    "    loss = loss_fn(Y_model, Y_train)\n",
    "\n",
    "    loss.backward()\n",
    "    optimizer.step()\n",
    "    optimizer.zero_grad()\n",
    "    scheduler.step(loss.item())\n",
    "\n",
    "    if epoch == 0 or (epoch + 1) % print_cost_every == 0:\n",
    "        num_digits = len(str(epochs))\n",
    "        print(f'Epoch: [{epoch + 1:{num_digits}}/{epochs}]. Loss: {loss.item():11.6f}')"
   ]
  },
  {
   "cell_type": "markdown",
   "id": "1bdcf69b",
   "metadata": {},
   "source": [
    "We can now visualize the shape represented by our `CST` object using its `visualize` method."
   ]
  },
  {
   "cell_type": "code",
   "execution_count": 5,
   "id": "2a06f748",
   "metadata": {},
   "outputs": [
    {
     "data": {
      "image/png": "[encoded data removed]",
      "text/plain": [
       "<Figure size 640x480 with 1 Axes>"
      ]
     },
     "metadata": {},
     "output_type": "display_data"
    }
   ],
   "source": [
    "# Visualize the fitted CST shape\n",
    "fig, ax = cst.visualize(num_pts = num_pts)\n",
    "plt.tight_layout()\n",
    "plt.show()"
   ]
  }
 ],
 "metadata": {
  "kernelspec": {
   "display_name": "geodiff",
   "language": "python",
   "name": "python3"
  },
  "language_info": {
   "codemirror_mode": {
    "name": "ipython",
    "version": 3
   },
   "file_extension": ".py",
   "mimetype": "text/x-python",
   "name": "python",
   "nbconvert_exporter": "python",
   "pygments_lexer": "ipython3",
   "version": "3.12.0"
  }
 },
 "nbformat": 4,
 "nbformat_minor": 5
}
