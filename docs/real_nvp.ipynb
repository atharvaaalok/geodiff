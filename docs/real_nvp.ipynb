{
 "cells": [
  {
   "cell_type": "markdown",
   "id": "336b1288",
   "metadata": {},
   "source": [
    "---\n",
    "title: RealNVP - Real-valued Non-Volume Preserving\n",
    "subtitle: Theory to Practice - A Tutorial on RealNVP representation.\n",
    "date: 2025-10-15\n",
    "bibliography:\n",
    "  - references.bib\n",
    "---"
   ]
  },
  {
   "cell_type": "markdown",
   "id": "4dff3a43",
   "metadata": {},
   "source": [
    "Real-Valued Non-Volume Preserving (RealNVP) is a normalizing flow model proposed by\n",
    "[@dinh2016density]. It is a generalization of their previous NICE normalizing flow model proposed in\n",
    "[@dinh2014nice]. RealNVP transformations are a set of powerful, stably invertible and learnable\n",
    "transformations that result in an unsupervised learning algorithm that allows computation of exact\n",
    "log-likelihood, exact and efficient sampling and exact and efficient inference of latent variables.\n",
    "The neural architecture is invertible and therefore provides a way of representing only\n",
    "non-self-intersecting geometry. We do this by using a Pre-Aux net with the RealNVP architecture. In\n",
    "this tutorial, we walk through the theory behind the RealNVP representation and how to actually use\n",
    "their `geodiff` implementation in practice."
   ]
  },
  {
   "cell_type": "code",
   "execution_count": 1,
   "id": "ab5748d4",
   "metadata": {},
   "outputs": [
    {
     "data": {
      "text/plain": [
       "<torch._C.Generator at 0x11424a150>"
      ]
     },
     "execution_count": 1,
     "metadata": {},
     "output_type": "execute_result"
    }
   ],
   "source": [
    "# Basic Imports\n",
    "import matplotlib.pyplot as plt\n",
    "import torch\n",
    "\n",
    "from geodiff.aux_nets import PreAuxNet\n",
    "from geodiff.real_nvp import RealNVP\n",
    "from geodiff.loss_functions.chamfer import ChamferLoss\n",
    "from geodiff.template_architectures import ResMLP\n",
    "\n",
    "from assets.utils import square, normalize_0_to_1\n",
    "\n",
    "\n",
    "# Set the seed for reproducibility\n",
    "torch.manual_seed(2)"
   ]
  },
  {
   "cell_type": "markdown",
   "id": "357aac4a",
   "metadata": {},
   "source": [
    "## Theoretical Background\n",
    "The RealNVP architecture as proposed in [@dinh2016density] is based on the idea of stacking simple\n",
    "nonlinear invertible transformations. The architecture is built such that it is easy to compute the\n",
    "inverse and the determinant of the Jacobian of the transformation. Computing the inverse and the\n",
    "determinant of the Jacobian is useful for log-likelihood training of generative models (of say\n",
    "images) but we do not require these properties and are only interested in the architecture being\n",
    "guaranteed invertible. That is, as long as we are concerned we only need a guarantee on the\n",
    "transformation represented by the network being invertible we will never actually want to invert it\n",
    "or compute the Jacobian of the determinant. Therefore, we only focus on the `forward` pass of the\n",
    "network and do not discuss the computations of the inverse or the determinant of the Jacobian.\n",
    "\n",
    "The RealNVP architecture is composed of bijective transformations with triangular Jacobians that\n",
    "serve as a building block for the entire transformation `f`. In particular, it uses an affine\n",
    "coupling layer as the building block defined as follows:\n",
    "\n",
    "**Affine coupling layer:** Let $x \\in \\mathbb{R}^{D}$ and $I_1, I_2$ be a partition of\n",
    "$\\llbracket 1, D \\rrbracket$ with $d = |I_1|$ and $t, s$ be functions defined on $\\mathbb{R}^{D}$.\n",
    "We can define $y = (y_{I_1}, y_{I_2})$ where:\n",
    ":::{math}\n",
    ":label: affine_coupling_layer\n",
    "y_{I_1} = x_{I_1} \\\\\n",
    "y_{I_2} = x_{I_2} \\odot exp(s(x_{I_1})) + t(x_{I_1})\n",
    ":::\n",
    "where, $s$ and $t$ stand for scale and translation and $\\odot$ is the Hadamard product or the\n",
    "element-wise product. If we choose\n",
    "$I_1 = \\llbracket 1, \\, d \\rrbracket, \\ I_2 = \\llbracket d+1, \\, D \\rrbracket$ then the Jacobian is\n",
    "given by:\n",
    ":::{math}\n",
    ":label: RealNVP_Jacobian_single_layer\n",
    "\\frac{\\partial y}{\\partial x}\n",
    "=\n",
    "\\begin{bmatrix}\n",
    "I_d & 0\\\\\n",
    "\\displaystyle \\frac{\\partial y_{I_2}}{\\partial x_{I_1}}\n",
    "&\n",
    "\\operatorname{diag} \\left( \\exp [s(x_{I_1})] \\right)\n",
    "\\end{bmatrix}\n",
    ":::\n",
    "\n",
    "The inverse mapping is obtained by:\n",
    ":::{math}\n",
    ":label: NICE_inverse\n",
    "x_{I_1} = y_{I_1} \\\\\n",
    "x_{I_2} = y_{I_2} - t(y_{I_1}) \\odot \\exp(-s(y_{I_1}))\n",
    ":::\n",
    "\n",
    "In contrast to NICE, affine coupling layers do not have has Jacobian determinant as is clear from\n",
    "Eq. [](#RealNVP_Jacobian_single_layer), i.e. is not volume preserving. Therefore, the diagonal\n",
    "scaling matrix used in NICE is not required with RealNVP."
   ]
  },
  {
   "cell_type": "markdown",
   "id": "8e84adcf",
   "metadata": {},
   "source": [
    "## Implementation using `geodiff`\n",
    "We now look at how `geodiff` allows us to easily use the RealNVP parameterization to represent\n",
    "shapes.\n",
    "\n",
    "The RealNVP class initializer and its expected arguments are shown below:\n",
    ":::{literalinclude} ../src/geodiff/real_nvp.py\n",
    ":start-at: __init__\n",
    ":end-at: -> None\n",
    ":::\n",
    "\n",
    "To construct a RealNVP object, we need to supply:\n",
    "- **Geometry Dimension** 2 for 2D and 3 for 3D.\n",
    "- **Layer Count** the number of layers in the RealNVP architecture.\n",
    "- **Translation Net** a torch network module to be used as the translation function.\n",
    "- **Scaling Net** a torch network module to be used as the scaling function.\n",
    "- **Pre-Aux Net** parameters such as layer count, hidden dimension, activation, normalization and\n",
    "    output functions.\n",
    "- **Boolean Flags** for using batch normalization and residual connections with the RealNVP layers."
   ]
  },
  {
   "cell_type": "markdown",
   "id": "42dd1a12",
   "metadata": {},
   "source": [
    "### Fitting Shapes\n",
    "We will use a square as our target geometry. We then use the `ChamferLoss` to compute the geometric\n",
    "difference loss between the target shape and the shape represented by our RealNVP parameterization.\n",
    "Since the implementation is written in PyTorch we can use the autograd capabilities to compute the\n",
    "gradients of the loss w.r.t. the RealNVP network parameters and use an optimizer to modify our\n",
    "geometry.\n",
    "\n",
    "We start by obtaining points on our shapes and normalizing them appropriately such that\n",
    "$x \\in [0, 1]$. This is not needed for RealNVP but is used to offer a comparison with the classical\n",
    "shape representation methods like Hicks-Henne and CST."
   ]
  },
  {
   "cell_type": "code",
   "execution_count": 2,
   "id": "97fc0167",
   "metadata": {},
   "outputs": [],
   "source": [
    "# Get points on a square (curve to fit)\n",
    "num_pts = 1000\n",
    "X_square = square(num_pts)\n",
    "\n",
    "# Normalize x values to the range [0, 1] to compare with other representation methods\n",
    "X_square = normalize_0_to_1(X_square)"
   ]
  },
  {
   "cell_type": "markdown",
   "id": "f90e6172",
   "metadata": {},
   "source": [
    "We now create a `RealNVP` object by specifying the geometry dimension, layer count, coupling network\n",
    "and Pre-Aux net parameters."
   ]
  },
  {
   "cell_type": "code",
   "execution_count": 3,
   "id": "b2b77f16",
   "metadata": {},
   "outputs": [],
   "source": [
    "# Create a RealNVP object\n",
    "# First create the Pre-Aux, translation and scaling networks to pass to the RealNVP initializer\n",
    "preaux_net = PreAuxNet(geometry_dim = 2, layer_count = 2, hidden_dim = 20)\n",
    "translation_net = ResMLP(input_dim = 1, output_dim = 1, layer_count = 2, hidden_dim = 20)\n",
    "scale_net = ResMLP(input_dim = 1, output_dim = 1, layer_count = 2, hidden_dim = 20,\n",
    "                   act_f = torch.nn.Tanh)\n",
    "real_nvp = RealNVP(\n",
    "    geometry_dim = 2,\n",
    "    layer_count = 4,\n",
    "    preaux_net = preaux_net,\n",
    "    translation_net = translation_net,\n",
    "    scale_net = scale_net,\n",
    ")"
   ]
  },
  {
   "cell_type": "markdown",
   "id": "2b1b26b1",
   "metadata": {},
   "source": [
    "We use the `ChamferLoss` provided by `geodiff` to compute a geometric loss between the target shape\n",
    "and the shape represented by the `RealNVP` object. PyTorch's autograd capabilities then allow us to\n",
    "compute gradients of the loss w.r.t. the RealNVP network parameters and modify them to fit the\n",
    "target shape."
   ]
  },
  {
   "cell_type": "code",
   "execution_count": 4,
   "id": "49beac86",
   "metadata": {},
   "outputs": [
    {
     "name": "stdout",
     "output_type": "stream",
     "text": [
      "Epoch: [   1/1000]. Loss:    0.377009\n",
      "Epoch: [ 200/1000]. Loss:    0.002237\n",
      "Epoch: [ 400/1000]. Loss:    0.000316\n",
      "Epoch: [ 600/1000]. Loss:    0.000194\n",
      "Epoch: [ 800/1000]. Loss:    0.000123\n",
      "Epoch: [1000/1000]. Loss:    0.000116\n"
     ]
    }
   ],
   "source": [
    "# Train the RealNVP parameters to fit the square\n",
    "loss_fn = ChamferLoss()\n",
    "\n",
    "learning_rate = 0.001\n",
    "epochs = 1000\n",
    "print_cost_every = 200\n",
    "\n",
    "Y_train = X_square\n",
    "\n",
    "optimizer = torch.optim.Adam(real_nvp.parameters(), lr = learning_rate)\n",
    "scheduler = torch.optim.lr_scheduler.ReduceLROnPlateau(optimizer, factor = 0.99)\n",
    "\n",
    "for epoch in range(epochs):\n",
    "    Y_model = real_nvp(num_pts = num_pts)\n",
    "    \n",
    "    loss = loss_fn(Y_model, Y_train)\n",
    "\n",
    "    loss.backward()\n",
    "    optimizer.step()\n",
    "    optimizer.zero_grad()\n",
    "    scheduler.step(loss.item())\n",
    "\n",
    "    if epoch == 0 or (epoch + 1) % print_cost_every == 0:\n",
    "        num_digits = len(str(epochs))\n",
    "        print(f'Epoch: [{epoch + 1:{num_digits}}/{epochs}]. Loss: {loss.item():11.6f}')"
   ]
  },
  {
   "cell_type": "markdown",
   "id": "3291a6df",
   "metadata": {},
   "source": [
    "We can now visualize the shape represented by our `RealNVP` object using its `visualize` method."
   ]
  },
  {
   "cell_type": "code",
   "execution_count": 5,
   "id": "6d4cbba1",
   "metadata": {},
   "outputs": [
    {
     "data": {
      "image/png": "[encoded data removed]",
      "text/plain": [
       "<Figure size 640x480 with 1 Axes>"
      ]
     },
     "metadata": {},
     "output_type": "display_data"
    }
   ],
   "source": [
    "# Visualize the fitted RealNVP shape\n",
    "fig, ax = real_nvp.visualize(num_pts = num_pts)\n",
    "plt.tight_layout()\n",
    "plt.show()"
   ]
  }
 ],
 "metadata": {
  "kernelspec": {
   "display_name": "geodiff",
   "language": "python",
   "name": "python3"
  },
  "language_info": {
   "codemirror_mode": {
    "name": "ipython",
    "version": 3
   },
   "file_extension": ".py",
   "mimetype": "text/x-python",
   "name": "python",
   "nbconvert_exporter": "python",
   "pygments_lexer": "ipython3",
   "version": "3.12.0"
  }
 },
 "nbformat": 4,
 "nbformat_minor": 5
}
